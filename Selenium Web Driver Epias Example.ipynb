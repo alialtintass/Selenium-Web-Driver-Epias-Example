{
 "cells": [
  {
   "cell_type": "code",
   "execution_count": 1,
   "metadata": {},
   "outputs": [],
   "source": [
    "from selenium.common.exceptions import TimeoutException, WebDriverException\n",
    "from selenium import webdriver\n",
    "from selenium.webdriver.firefox.firefox_binary import FirefoxBinary\n",
    "from selenium.webdriver.support.ui import WebDriverWait\n",
    "from selenium.webdriver.support import expected_conditions as EC\n",
    "from selenium.webdriver.common.by import By\n",
    "from selenium.common.exceptions import TimeoutException\n",
    "from selenium.webdriver.common.keys import Keys\n",
    "import time\n",
    "from selenium.webdriver import ActionChains\n",
    "import pandas as pd"
   ]
  },
  {
   "cell_type": "markdown",
   "metadata": {},
   "source": [
    "First Download Firefox Geckodriver and defining the file path where you've saved it.\n",
    "\n",
    "(I have tested both  Firefox driver and Chrome driver, while Chrome driver caused some minor path problems, Firefox worked flawless in Windows environment.) "
   ]
  },
  {
   "cell_type": "code",
   "execution_count": 2,
   "metadata": {},
   "outputs": [],
   "source": [
    "driver=webdriver.Firefox(executable_path=r'C:\\Chrome\\geckodriver.exe')\n",
    "url=str('https://seffaflik.epias.com.tr/transparency/tuketim/gerceklesen-tuketim/gercek-zamanli-tuketim.xhtml')\n",
    "driver.get(url)\n",
    "driver.maximize_window()\n",
    "date_value1='01.07.2020'\n",
    "date_value2='04.07.2020'"
   ]
  },
  {
   "cell_type": "markdown",
   "metadata": {},
   "source": [
    "First standard step is assigning Selenium geckodriver path as namely driver.(Usually name prefer in this step is \"driver\" or \"browser\")\n",
    "Then, driver.get() function gets the url whatever user choose.\n",
    "\n",
    "I need to define input date values which will be entered by my Selenium bot automatically.\n",
    "In this example I have choosen the date between 01.07.2020-04.07.2020 "
   ]
  },
  {
   "cell_type": "code",
   "execution_count": 3,
   "metadata": {},
   "outputs": [],
   "source": [
    "try:\n",
    "    date1=WebDriverWait(driver,15).until(EC.presence_of_element_located((By.ID,'j_idt205:date1_input')))\n",
    "\n",
    "except:\n",
    "        driver.quit()\n",
    "\n",
    "date1.clear();\n",
    "date1.send_keys(date_value1)\n",
    "try:\n",
    "    date2=WebDriverWait(driver,15).until(EC.presence_of_element_located((By.ID,'j_idt205:date2_input')))\n",
    "\n",
    "except:\n",
    "        driver.quit()\n",
    "\n",
    "date2.clear();\n",
    "date2.send_keys(date_value2)\n",
    "date2.submit()\n",
    "time.sleep(15)\n",
    "\n",
    "driver.find_element_by_name('j_idt205:goster').click()"
   ]
  },
  {
   "cell_type": "markdown",
   "metadata": {},
   "source": [
    "The code block above, Selenium web bot have entered date values automatically in dateboxes of the Epias website and clicked \"uygula\" the green button for execution.  "
   ]
  },
  {
   "cell_type": "code",
   "execution_count": 4,
   "metadata": {},
   "outputs": [
    {
     "name": "stdout",
     "output_type": "stream",
     "text": [
      "Last page reached\n",
      "           Tarih   Saat  Tüketim Miktarı (MWh)\n",
      "0 0   01.07.2020  00:00               34.01448\n",
      "  1   01.07.2020  01:00               32.34750\n",
      "  2   01.07.2020  02:00               31.08524\n",
      "  3   01.07.2020  03:00               30.55618\n",
      "  4   01.07.2020  04:00               29.90986\n",
      "...          ...    ...                    ...\n",
      "3 19  04.07.2020  19:00               38.52551\n",
      "  20  04.07.2020  20:00               39.47513\n",
      "  21  04.07.2020  21:00               39.73661\n",
      "  22  04.07.2020  22:00               38.40659\n",
      "  23  04.07.2020  23:00               36.87939\n",
      "\n",
      "[96 rows x 3 columns]\n",
      "96\n"
     ]
    }
   ],
   "source": [
    "if date_value1==date_value2:\n",
    "    df_1_page = pd.read_html(driver.page_source)[0]\n",
    "    print(df_1_page)\n",
    "\n",
    "else:\n",
    "    df={}\n",
    "    # df= pd.DataFrame()\n",
    "    df[0] = pd.read_html(driver.page_source)[0]\n",
    "    i = 1\n",
    "    # df_empty.append(df)\n",
    "    # print(\"df_empty is \",df_empty)\n",
    "    while True:\n",
    "\n",
    "        next_page_btn = driver.find_elements_by_xpath('//*[@id=\"j_idt205:dt_paginator_bottom\"]/a[3]/span')\n",
    "\n",
    "        try:\n",
    "\n",
    "                  time.sleep(10)\n",
    "                  next_page_btn[0].click()\n",
    "                  # time.sleep(10)\n",
    "                  table = driver.find_element_by_xpath('//*[@id=\"j_idt205:dt\"]')\n",
    "                  table_html = table.get_attribute('innerHTML')\n",
    "                  df[i] = pd.DataFrame()\n",
    "                  df[i] = pd.read_html(table_html)[0]\n",
    "                  i=i+1\n",
    "        except (TimeoutException, WebDriverException) :\n",
    "\n",
    "                        print(\"Last page reached\")\n",
    "                        all_pages_df = pd.concat(df)\n",
    "                        print(all_pages_df)\n",
    "                        print(len(all_pages_df))\n",
    "\n",
    "                        break"
   ]
  },
  {
   "cell_type": "markdown",
   "metadata": {},
   "source": [
    "\"Finally, The Selenium bot were clicking next button iteratively('>' near the page numbers butons) as if an input user,and pulling all the page's tables to concat in the single Pandas Dataframe format.  \""
   ]
  },
  {
   "cell_type": "raw",
   "metadata": {},
   "source": [
        "df.to_csv(r'Path where you want to store the exported CSV file\\\\File Name.csv')"
   ]
  },
  {
   "cell_type": "markdown",
   "metadata": {},
   "source": [
    "If you tend to use this dynamic table datas in different software, \n",
    "you can just save it as csv format."
   ]
  },
  {
   "cell_type": "code",
   "execution_count": null,
   "metadata": {},
   "outputs": [],
   "source": []
  }
 ],
 "metadata": {
  "kernelspec": {
   "display_name": "Python 3",
   "language": "python",
   "name": "python3"
  },
  "language_info": {
   "codemirror_mode": {
    "name": "ipython",
    "version": 3
   },
   "file_extension": ".py",
   "mimetype": "text/x-python",
   "name": "python",
   "nbconvert_exporter": "python",
   "pygments_lexer": "ipython3",
   "version": "3.7.4"
  }
 },
 "nbformat": 4,
 "nbformat_minor": 2
}
